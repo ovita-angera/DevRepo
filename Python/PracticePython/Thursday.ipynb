{
 "cells": [
  {
   "cell_type": "markdown",
   "metadata": {},
   "source": [
    "### Question 1 - Reverse Integer\n",
    "Given a signed 32-bit integer x, return x with its digits reversed. If reversing x causes the value to go outside the signed 32-bit integer range [-2^31, 2^31 - 1], then return 0.\n",
    "\n",
    "Assume the environment does not allow you to store 64-bit integers (signed or unsigned).\n",
    "\n",
    "Example 1:\n",
    "\n",
    "Input: x = 123\n",
    "Output: 321\n",
    "Example 2:\n",
    "\n",
    "Input: x = -123\n",
    "Output: -321\n",
    "Example 3:\n",
    "\n",
    "Input: x = 120\n",
    "Output: 21\n",
    " \n",
    "\n",
    "Constraints:\n",
    "\n",
    "-2^31 <= x <= 2^31 - 1\n",
    "\n",
    "### Solution phase\n",
    "- There are several types of integers: signed, unsigned, 32 bit, 64 bit\n",
    "- [-2147483647, +2147483647] range \n",
    "\n",
    "Reverse the integer - the last digit becomes the first\n",
    "check if it is within range \n",
    "\n",
    "Step 1: \n",
    "Convert the number into a string \n",
    "\n",
    "Step 2: \n",
    "Sort by index - reverse"
   ]
  },
  {
   "cell_type": "code",
   "execution_count": 12,
   "metadata": {},
   "outputs": [
    {
     "name": "stdout",
     "output_type": "stream",
     "text": [
      "0\n"
     ]
    }
   ],
   "source": [
    "def reverse_number(number):\n",
    "    number = str(number) \n",
    "    \n",
    "    max = len(number) - 1\n",
    "    new_number = ''\n",
    "\n",
    "    for i in range(len(number)):\n",
    "        new_number += number[max - i]\n",
    "        \n",
    "    if new_number[-1] == '-':\n",
    "        new_number = new_number[:len(new_number) - 1]\n",
    "        new_number = '-' + new_number\n",
    "        \n",
    "    new_number = int(new_number)\n",
    "    \n",
    "    if -2147483647 < new_number < 2147483647:\n",
    "        return new_number\n",
    "    else:\n",
    "        return 0\n",
    "\n",
    "def main():\n",
    "    # method one\n",
    "    number = input(\"Enter a number: \")\n",
    "    print(reverse_number(number))\n",
    "    \n",
    "# run the main function\n",
    "if __name__ == \"__main__\":\n",
    "    main()"
   ]
  },
  {
   "cell_type": "code",
   "execution_count": 13,
   "metadata": {},
   "outputs": [
    {
     "name": "stdout",
     "output_type": "stream",
     "text": [
      "f\n",
      "inf\n",
      "nity\n",
      "ytinifni\n"
     ]
    }
   ],
   "source": [
    "# tricks to reversing a string\n",
    "# substring\n",
    "pet = \"infinity\"\n",
    "\n",
    "# slicing\n",
    "# string[start : stop : step]\n",
    "print(pet[2]) # get the third letter\n",
    "print(pet[:3]) # get the first three letter\n",
    "print(pet[-4:]) #get the last four\n",
    "print(pet[::-1]) # reversing using slicing\n"
   ]
  },
  {
   "cell_type": "markdown",
   "metadata": {},
   "source": [
    "### Question 2: String Manipulation"
   ]
  },
  {
   "cell_type": "code",
   "execution_count": 17,
   "metadata": {},
   "outputs": [
    {
     "name": "stdout",
     "output_type": "stream",
     "text": [
      "anglican.co.uk\n",
      "wreslemania.co.us\n",
      "wikipedia.com\n",
      "google.com\n"
     ]
    }
   ],
   "source": [
    "# strip function vs \n",
    "websites = [\n",
    "    \"www.anglican.co.uk\",\n",
    "    \"www.wreslemania.co.us\",\n",
    "    \"www.wikipedia.com\",\n",
    "    \"www.google.com\"\n",
    "]\n",
    "\n",
    "# my desired result\n",
    "\"\"\"\n",
    "    \"anglican.co.uk\",\n",
    "    \"wreslemania.co.us\",\n",
    "    \"wikipedia.com\",\n",
    "    \"google.com\"\n",
    "\"\"\"\n",
    "\n",
    "# strip => lstrip (left strip), rstrip (right strip)\n",
    "for i in range(len(websites)):\n",
    "    # print(websites[i].lstrip('w'))\n",
    "    print(websites[i].removeprefix('www.'))\n",
    "    \n",
    "    # use of removeprefix, removesuffix"
   ]
  },
  {
   "cell_type": "code",
   "execution_count": 14,
   "metadata": {},
   "outputs": [
    {
     "data": {
      "text/plain": [
       "'bills'"
      ]
     },
     "execution_count": 14,
     "metadata": {},
     "output_type": "execute_result"
    }
   ],
   "source": [
    "money = \"$$bills\"\n",
    "money.strip('$')"
   ]
  },
  {
   "cell_type": "markdown",
   "metadata": {},
   "source": [
    "### Problem\n",
    "Read the txt file `test.txt` in and convert it into a csv file"
   ]
  },
  {
   "cell_type": "code",
   "execution_count": 26,
   "metadata": {},
   "outputs": [
    {
     "data": {
      "text/plain": [
       "[['first_name', 'last_name', 'age', 'status', 'gender'],\n",
       " ['brian', 'mike', '23', 'single', 'male'],\n",
       " ['noel', 'gallager', '45', 'married', 'male'],\n",
       " ['lucy', 'wanjohi', '35', 'single', 'female'],\n",
       " ['bianca', 'kaluma', '45', 'married', 'female']]"
      ]
     },
     "execution_count": 26,
     "metadata": {},
     "output_type": "execute_result"
    }
   ],
   "source": [
    "arrayOfArrays = []\n",
    "\n",
    "with open('test.txt', mode='r', newline='') as f:\n",
    "    data = f.readlines()\n",
    "    \n",
    "    for line in data:\n",
    "        arrayOfArrays.append(line.split())\n",
    "        \n",
    "arrayOfArrays"
   ]
  },
  {
   "cell_type": "markdown",
   "metadata": {},
   "source": [
    "#### some idea of string manipulation\n",
    "break down a string through some sort of separator - split()\n",
    "what split() does is separate a sentence using a separator if it passed in\n",
    "If it is not, then it separates using whitespace."
   ]
  },
  {
   "cell_type": "code",
   "execution_count": 24,
   "metadata": {},
   "outputs": [
    {
     "data": {
      "text/html": [
       "<div>\n",
       "<style scoped>\n",
       "    .dataframe tbody tr th:only-of-type {\n",
       "        vertical-align: middle;\n",
       "    }\n",
       "\n",
       "    .dataframe tbody tr th {\n",
       "        vertical-align: top;\n",
       "    }\n",
       "\n",
       "    .dataframe thead th {\n",
       "        text-align: right;\n",
       "    }\n",
       "</style>\n",
       "<table border=\"1\" class=\"dataframe\">\n",
       "  <thead>\n",
       "    <tr style=\"text-align: right;\">\n",
       "      <th></th>\n",
       "      <th>first_name</th>\n",
       "      <th>last_name</th>\n",
       "      <th>age</th>\n",
       "      <th>status</th>\n",
       "      <th>gender</th>\n",
       "    </tr>\n",
       "  </thead>\n",
       "  <tbody>\n",
       "    <tr>\n",
       "      <th>0</th>\n",
       "      <td>brian</td>\n",
       "      <td>mike</td>\n",
       "      <td>23</td>\n",
       "      <td>single</td>\n",
       "      <td>male</td>\n",
       "    </tr>\n",
       "    <tr>\n",
       "      <th>1</th>\n",
       "      <td>noel</td>\n",
       "      <td>gallager</td>\n",
       "      <td>45</td>\n",
       "      <td>married</td>\n",
       "      <td>male</td>\n",
       "    </tr>\n",
       "    <tr>\n",
       "      <th>2</th>\n",
       "      <td>lucy</td>\n",
       "      <td>wanjohi</td>\n",
       "      <td>35</td>\n",
       "      <td>single</td>\n",
       "      <td>female</td>\n",
       "    </tr>\n",
       "    <tr>\n",
       "      <th>3</th>\n",
       "      <td>bianca</td>\n",
       "      <td>kaluma</td>\n",
       "      <td>45</td>\n",
       "      <td>married</td>\n",
       "      <td>female</td>\n",
       "    </tr>\n",
       "  </tbody>\n",
       "</table>\n",
       "</div>"
      ],
      "text/plain": [
       "  first_name last_name age   status  gender\n",
       "0      brian      mike  23   single    male\n",
       "1       noel  gallager  45  married    male\n",
       "2       lucy   wanjohi  35   single  female\n",
       "3     bianca    kaluma  45  married  female"
      ]
     },
     "execution_count": 24,
     "metadata": {},
     "output_type": "execute_result"
    }
   ],
   "source": [
    "import pandas as pd \n",
    "\n",
    "df = pd.DataFrame(arrayOfArrays[1:], columns=arrayOfArrays[0])\n",
    "df"
   ]
  },
  {
   "cell_type": "markdown",
   "metadata": {},
   "source": [
    "### The opposite of split\n",
    "join()"
   ]
  },
  {
   "cell_type": "code",
   "execution_count": 28,
   "metadata": {},
   "outputs": [
    {
     "name": "stdout",
     "output_type": "stream",
     "text": [
      "ragnar\n",
      "r a g n a r\n",
      "r,a,g,n,a,r\n",
      "r-a-g-n-a-r\n"
     ]
    }
   ],
   "source": [
    "splitVals = ['r', 'a', 'g', 'n', 'a', 'r']\n",
    "\n",
    "print(\"\".join(splitVals))\n",
    "print(\" \".join(splitVals))\n",
    "print(\",\".join(splitVals))\n",
    "print(\"-\".join(splitVals))"
   ]
  },
  {
   "cell_type": "code",
   "execution_count": 29,
   "metadata": {},
   "outputs": [],
   "source": [
    "sentence = \"This is a very productive day. We should have this more often\""
   ]
  },
  {
   "cell_type": "code",
   "execution_count": 30,
   "metadata": {},
   "outputs": [
    {
     "data": {
      "text/plain": [
       "['Th', ' ', ' a very productive day. We should have th', ' more often']"
      ]
     },
     "execution_count": 30,
     "metadata": {},
     "output_type": "execute_result"
    }
   ],
   "source": [
    "sentence.split(\"is\")"
   ]
  },
  {
   "cell_type": "code",
   "execution_count": 31,
   "metadata": {},
   "outputs": [
    {
     "data": {
      "text/plain": [
       "['This is a very productive day', ' We should have this more often']"
      ]
     },
     "execution_count": 31,
     "metadata": {},
     "output_type": "execute_result"
    }
   ],
   "source": [
    "sentence.split('.')"
   ]
  },
  {
   "cell_type": "code",
   "execution_count": 32,
   "metadata": {},
   "outputs": [
    {
     "data": {
      "text/plain": [
       "['This',\n",
       " 'is',\n",
       " 'a',\n",
       " 'very',\n",
       " 'productive',\n",
       " 'day.',\n",
       " 'We',\n",
       " 'should',\n",
       " 'have',\n",
       " 'this',\n",
       " 'more',\n",
       " 'often']"
      ]
     },
     "execution_count": 32,
     "metadata": {},
     "output_type": "execute_result"
    }
   ],
   "source": [
    "sentence.split()"
   ]
  }
 ],
 "metadata": {
  "kernelspec": {
   "display_name": "Python 3",
   "language": "python",
   "name": "python3"
  },
  "language_info": {
   "codemirror_mode": {
    "name": "ipython",
    "version": 3
   },
   "file_extension": ".py",
   "mimetype": "text/x-python",
   "name": "python",
   "nbconvert_exporter": "python",
   "pygments_lexer": "ipython3",
   "version": "3.12.2"
  }
 },
 "nbformat": 4,
 "nbformat_minor": 2
}
