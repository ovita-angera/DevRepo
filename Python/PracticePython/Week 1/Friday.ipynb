{
 "cells": [
  {
   "cell_type": "markdown",
   "metadata": {},
   "source": [
    "#### Challenge 1 \n",
    "After recently joining Instacart's beta testing developer group, you decide to experiment with their new API. You know that the API returns item-specific display-ready strings like 10.0% higher than in-store or 5.0% lower than in-store that inform users when the price of an item is different from the one in-store. But you want to extend this functionality by giving people a better sense of how much more they will be paying for their entire shopping cart.\n",
    "\n",
    "Your app lets a user decide the total amount x they are willing to pay via Instacart over in-store prices. This you call their price sensitivity.\n",
    "\n",
    "Your job is to determine whether a given customer will be willing to pay for the given items in their cart based on their stated price sensitivity x.\n",
    "\n",
    "Example\n",
    "\n",
    "For\n",
    "prices = [110, 95, 70],\n",
    "\n",
    "notes = [\"10.0% higher than in-store\", \n",
    "         \"5.0% lower than in-store\", \n",
    "         \"Same as in-store\"]\n",
    "and x = 5, the output should be\n",
    "solution(prices, notes, x) = true.\n",
    "\n",
    "In-store prices of the first and the second items are 100, and the price of the third item is 70, which means the customer is overpaying 10 - 5 + 0 = 5, which they are willing to do based on their price sensitivity.\n",
    "\n",
    "For\n",
    "prices = [48, 165],\n",
    "\n",
    "notes = [\"20.00% lower than in-store\", \n",
    "         \"10.00% higher than in-store\"]\n",
    "and x = 2, the output should be\n",
    "solution(prices, notes, x) = false.\n",
    "\n",
    "The in-store price of the first item is 60, and the second item is 150. The overpayment equals 15 - 12 = 3, which is too much for the customer to be willing to pay.\n",
    "\n",
    "Input/Output\n",
    "\n",
    "[execution time limit] 4 seconds (py3)\n",
    "\n",
    "[memory limit] 1 GB\n",
    "\n",
    "[input] array.float prices\n",
    "\n",
    "Positive numbers, representing prices of the items in the shopping cart.\n",
    "\n",
    "Guaranteed constraints:\n",
    "1 ≤ prices.length ≤ 10,\n",
    "20.0 ≤ prices[i] ≤ 35.0 · 103.\n",
    "\n",
    "[input] array.string notes\n",
    "\n",
    "Array of the same length as prices. For each valid i notes[i] has one of the following forms:\n",
    "\n",
    "\"x% higher than in-store\", which means that Instacart price of the ith item is x% higher than the local one;\n",
    "\"x% lower than in-store\", which means that Instacart price of the ith item is x% lower than the local one;\n",
    "\"Same as in-store\", which means that the ith item costs the same in Instacart and in the local store,\n",
    "where x is a positive float number with the decimal point and at least one digit after it.\n",
    "\n",
    "Guaranteed constraints:\n",
    "notes.length = prices.length,\n",
    "16 ≤ notes[i].length ≤ 30.\n",
    "\n",
    "[input] float x\n",
    "\n",
    "A non-negative float, the maximum amount of money the customer is willing to overpay.\n",
    "\n",
    "Guaranteed constraints:\n",
    "0 ≤ x ≤ 150.0.\n",
    "\n",
    "[output] boolean\n",
    "\n",
    "true if the overpayment is admissible, false otherwise."
   ]
  },
  {
   "cell_type": "code",
   "execution_count": 22,
   "metadata": {},
   "outputs": [
    {
     "data": {
      "text/plain": [
       "5.0"
      ]
     },
     "execution_count": 22,
     "metadata": {},
     "output_type": "execute_result"
    }
   ],
   "source": [
    "prices = [110, 95, 70]\n",
    "notes = [\"10.0% higher than in-store\", \n",
    "         \"5.0% lower than in-store\", \n",
    "         \"Same as in-store\"]\n",
    "\n",
    "price_difference = 0\n",
    "\n",
    "for i in range(len(prices)):\n",
    "    pct = notes[i].split()[0].rstrip('%') # do some research\n",
    "    \n",
    "    # handles the instance where price in store equals price online - a number is not provided\n",
    "    if pct == \"Same\":\n",
    "        price_difference += 0\n",
    "        \n",
    "    else:\n",
    "        # our logic in the case of the first value being a percentage, where price is store does not equal price online\n",
    "        secondArg = notes[i].split()[1]\n",
    "        pct = float(pct)\n",
    "        \n",
    "        if secondArg == \"higher\":\n",
    "            price_difference += (pct / (100 + pct)) * prices[i]\n",
    "        else:\n",
    "            price_difference -= (pct / (100 - pct)) * prices[i]\n",
    "            \n",
    "# # normally\n",
    "# number = input('Enter number: ')\n",
    "\n",
    "# try:\n",
    "#     number = float(number)\n",
    "# except:\n",
    "#     print('Not a number!')\n",
    "    \n",
    "price_difference "
   ]
  },
  {
   "cell_type": "markdown",
   "metadata": {},
   "source": [
    "### some maths\n",
    "if 110% = priceOnline\\\n",
    "priceInStore = 100%\n",
    "\n",
    "(100 / 110) * priceOnline in the case that the price was higher\\\n",
    "difference in price\n",
    "(110 - 100) / 110 * priceOnline - differnce in price => (10 / (100 + 10)) * priceOnline\n",
    "\n",
    "if 95% = priceOnline\\\n",
    "100% => priceInStore => (100 / 95) * priceOnline\\\n",
    "\n",
    "(100 - 95) / 95 * priceOnline => (5 / (100 - 5)) * priceOnline"
   ]
  },
  {
   "cell_type": "code",
   "execution_count": 13,
   "metadata": {},
   "outputs": [
    {
     "data": {
      "text/plain": [
       "10.0"
      ]
     },
     "execution_count": 13,
     "metadata": {},
     "output_type": "execute_result"
    }
   ],
   "source": [
    "# string methods - split(), strip(), removesuffix(), replace()\n",
    "# you cannot use int in the presence of decimals, instead use float\n",
    "pct = notes[0].split()[0].rstrip('%')\n",
    "\n",
    "# int(pct) == wrong\n",
    "float(pct)"
   ]
  },
  {
   "cell_type": "code",
   "execution_count": 21,
   "metadata": {},
   "outputs": [
    {
     "data": {
      "text/plain": [
       "'higher'"
      ]
     },
     "execution_count": 21,
     "metadata": {},
     "output_type": "execute_result"
    }
   ],
   "source": [
    "print(\"10.0% higher than in-store\".split()[1])"
   ]
  },
  {
   "cell_type": "code",
   "execution_count": null,
   "metadata": {},
   "outputs": [],
   "source": [
    "# define the function to solve the question above\n",
    "def solution(prices, notes, x):\n",
    "    \"\"\"_summary_\n",
    "\n",
    "    Args:\n",
    "        prices (_type_): _description_\n",
    "        notes (_type_): _description_\n",
    "        x (_type_): _description_\n",
    "        \n",
    "        Logic: check the price in store from the prices for goods in the cart bought via Instacart and the corresponding notes\n",
    "    \"\"\"\n",
    "    price_difference = 0\n",
    "\n",
    "    for i in range(len(prices)):\n",
    "        # take the first element in each string\n",
    "        # remove the percentage sign from it if it has one\n",
    "        # if = 10.00% => '10.00' || \"Same\" => \"Same\"\n",
    "        pct = notes[i].split()[0].rstrip('%')\n",
    "        \n",
    "        \n",
    "        if pct == \"Same\":\n",
    "            price_difference += 0\n",
    "        else:\n",
    "            secondArg = notes[i].split()[1]\n",
    "            pct = float(pct)\n",
    "            \n",
    "            if secondArg == \"higher\":\n",
    "                price_difference += (pct / (100 + pct)) * prices[i]\n",
    "            else:\n",
    "                price_difference -= (pct / (100 - pct)) * prices[i]\n",
    "        \n",
    "    return price_difference <= x "
   ]
  },
  {
   "cell_type": "markdown",
   "metadata": {},
   "source": [
    "The above solution fails for only one case:\n",
    "prices: [48, 165]\n",
    "notes:\n",
    "[\"20.00% lower than in-store\", \n",
    " \"10.00% higher than in-store\"]\n",
    "\n",
    " 80% = 48 => 20% => 20/80 * 48 = 12\n",
    " 110% = 165 => 10% => 10/110 * 165 = -15\n",
    "\n",
    " (12 - 15) = (-3)  "
   ]
  },
  {
   "cell_type": "code",
   "execution_count": null,
   "metadata": {},
   "outputs": [],
   "source": [
    "## Brian's Solution - long procedure / a bit more complicated\n",
    "def solution(prices, notes, x):\n",
    "    sensitivity = []\n",
    "    \n",
    "    for i in range(len(notes)):\n",
    "        \n",
    "        desired_list = notes[i].split()\n",
    "        if desired_list[0] != 'Same':\n",
    "            percentage = float(desired_list[0].replace(\"%\", \"\"))\n",
    "            if desired_list[1] == 'higher':\n",
    "                value = (percentage / (100.00 + percentage)) * prices[i]\n",
    "                sensitivity.append(value)\n",
    "            \n",
    "            else:\n",
    "                value = -1 * (percentage / (100.00 - percentage)) * prices[i]\n",
    "                sensitivity.append(value)\n",
    "        else:\n",
    "            sensitivity.append(0)\n",
    "            \n",
    "    return sum(sensitivity) <= x "
   ]
  },
  {
   "cell_type": "markdown",
   "metadata": {},
   "source": [
    "- Write a recursive function for GCD? \n",
    "- recursion - function calling itself\n",
    "- factorial, fibonacci\n",
    "- repetitive process and the values can be reused\n",
    "- it goes hand in hand with caching / memoisation (advanced topics)\n",
    "\n",
    "OOP - problems in OOP, Introduction to advanced python concepts (memoisation, recursion, caching)"
   ]
  },
  {
   "cell_type": "code",
   "execution_count": 28,
   "metadata": {},
   "outputs": [],
   "source": [
    "import math\n",
    "\n",
    "def gcd(a, b):\n",
    "    return math.gcd(a, b)"
   ]
  },
  {
   "cell_type": "code",
   "execution_count": 29,
   "metadata": {},
   "outputs": [
    {
     "data": {
      "text/plain": [
       "3"
      ]
     },
     "execution_count": 29,
     "metadata": {},
     "output_type": "execute_result"
    }
   ],
   "source": [
    "gcd(3, 6)"
   ]
  },
  {
   "cell_type": "code",
   "execution_count": 30,
   "metadata": {},
   "outputs": [
    {
     "data": {
      "text/plain": [
       "40320"
      ]
     },
     "execution_count": 30,
     "metadata": {},
     "output_type": "execute_result"
    }
   ],
   "source": [
    "math.factorial(8)"
   ]
  },
  {
   "cell_type": "code",
   "execution_count": null,
   "metadata": {},
   "outputs": [],
   "source": []
  }
 ],
 "metadata": {
  "kernelspec": {
   "display_name": "Python 3",
   "language": "python",
   "name": "python3"
  },
  "language_info": {
   "codemirror_mode": {
    "name": "ipython",
    "version": 3
   },
   "file_extension": ".py",
   "mimetype": "text/x-python",
   "name": "python",
   "nbconvert_exporter": "python",
   "pygments_lexer": "ipython3",
   "version": "3.12.2"
  }
 },
 "nbformat": 4,
 "nbformat_minor": 2
}
