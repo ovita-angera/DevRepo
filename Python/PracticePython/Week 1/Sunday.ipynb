{
 "cells": [
  {
   "cell_type": "markdown",
   "metadata": {},
   "source": [
    "Exercise 7: Sum of the First n Positive Integers\\\n",
    "(Solved—12 Lines)\\\n",
    "Write a program that reads a positive integer, n, from the user and then displays the\n",
    "sum of all of the integers from 1 to n. The sum of the first n positive integers can be\n",
    "computed using the formula:\n",
    "sum =\n",
    "(n)(n + 1)\n",
    "2"
   ]
  },
  {
   "cell_type": "code",
   "execution_count": 6,
   "metadata": {},
   "outputs": [
    {
     "data": {
      "text/plain": [
       "45"
      ]
     },
     "execution_count": 6,
     "metadata": {},
     "output_type": "execute_result"
    }
   ],
   "source": [
    "def sumOfN():\n",
    "    n = int(input(\"Enter a number n: \"))\n",
    "    \n",
    "    if n > 0:\n",
    "        return int(((n) * (n + 1)) / 2)\n",
    "    else:\n",
    "        return 0\n",
    "    \n",
    "# test our function\n",
    "sumOfN()"
   ]
  },
  {
   "cell_type": "markdown",
   "metadata": {},
   "source": [
    "#### in case the formula was not provided\n",
    "Ask for user input\n",
    "Iterate N number of times adding to a value (result)\n",
    "Return the result"
   ]
  },
  {
   "cell_type": "code",
   "execution_count": 10,
   "metadata": {},
   "outputs": [
    {
     "data": {
      "text/plain": [
       "55"
      ]
     },
     "execution_count": 10,
     "metadata": {},
     "output_type": "execute_result"
    }
   ],
   "source": [
    "def sum_of_n():\n",
    "    n = int(input(\"Enter a number: \"))\n",
    "    \n",
    "    total = 0\n",
    "    \n",
    "    for i in range(1, n + 1):\n",
    "        total += i\n",
    "    \n",
    "    return total\n",
    "\n",
    "sum_of_n()"
   ]
  },
  {
   "cell_type": "code",
   "execution_count": 9,
   "metadata": {},
   "outputs": [
    {
     "name": "stdout",
     "output_type": "stream",
     "text": [
      "1\n",
      "2\n",
      "3\n",
      "4\n",
      "5\n",
      "6\n",
      "7\n",
      "8\n",
      "9\n",
      "10\n"
     ]
    }
   ],
   "source": [
    "for i in range(1, 11):\n",
    "    print(i)"
   ]
  },
  {
   "cell_type": "code",
   "execution_count": 71,
   "metadata": {},
   "outputs": [
    {
     "name": "stdout",
     "output_type": "stream",
     "text": [
      "0\n",
      "20\n",
      "40\n",
      "60\n",
      "80\n",
      "100\n"
     ]
    }
   ],
   "source": [
    "for i in range(0, 101, 20): # it can take a step argument\n",
    "    print(i)"
   ]
  },
  {
   "cell_type": "markdown",
   "metadata": {},
   "source": [
    "Exercise 8: Widgets and Gizmos\n",
    "(15 Lines)\n",
    "An online retailer sells two products: widgets and gizmos. Each widget weighs 75\n",
    "grams. Each gizmo weighs 112 grams. Write a program that reads the number of\n",
    "widgets and the number of gizmos in an order from the user. Then your program\n",
    "should compute and display the total weight of the order.\n",
    "\n",
    "Our notes:\n",
    "widget - 75grams (x)\n",
    "gizmo - 112grams (y)\n",
    "\n",
    "x and y\n",
    "75x + 112y = total\n"
   ]
  },
  {
   "cell_type": "code",
   "execution_count": 14,
   "metadata": {},
   "outputs": [
    {
     "data": {
      "text/plain": [
       "'Total weight: 2356'"
      ]
     },
     "execution_count": 14,
     "metadata": {},
     "output_type": "execute_result"
    }
   ],
   "source": [
    "def compute_total_weight():\n",
    "    widget = input(\"Enter number of widgets: \")\n",
    "    gizmo = input(\"Enter number of gizmos: \")\n",
    "    \n",
    "    try:\n",
    "        # convert the counts into integers\n",
    "        widget, gizmo = int(widget), int(gizmo)\n",
    "        \n",
    "        total = 75 * widget + 112 * gizmo\n",
    "        \n",
    "        return \"Total weight: {} grams\".format(total)\n",
    "    \n",
    "    except:\n",
    "        print(\"Error, Invalid input!\")    \n",
    "        \n",
    "compute_total_weight()"
   ]
  },
  {
   "cell_type": "markdown",
   "metadata": {},
   "source": [
    "Exercise 9: Compound Interest\\\n",
    "(19 Lines)\\\n",
    "Pretend that you have just opened a new savings account that earns 4 percent interest\n",
    "per year. The interest that you earn is paid at the end of the year, and is added\n",
    "to the balance of the savings account. Write a program that begins by reading the\n",
    "amount of money deposited into the account from the user. Then your program should\n",
    "compute and display the amount in the savings account after 1, 2, and 3 years. Display\n",
    "each amount so that it is rounded to 2 decimal places.\n",
    "\n",
    "#### our notes\n",
    "4% interest p.a compound interest\n",
    "\n",
    "Compound interest formula\n",
    "principal (1 + interest rate) ^ time"
   ]
  },
  {
   "cell_type": "code",
   "execution_count": 20,
   "metadata": {},
   "outputs": [
    {
     "name": "stdout",
     "output_type": "stream",
     "text": [
      "Year: 1 := Accumulated: 1040.00\n",
      "Year: 2 := Accumulated: 1081.60\n",
      "Year: 3 := Accumulated: 1124.86\n"
     ]
    }
   ],
   "source": [
    "def compound_interest():\n",
    "    # prompt the user for input\n",
    "    principal = float(input(\"Enter your principal amount: \"))\n",
    "    \n",
    "    for i in range(1,4):\n",
    "        accumulated = principal * (1.04) ** i\n",
    "        \n",
    "        print(\"Year: {} := Accumulated: {:.2f}\".format(i, accumulated))\n",
    "   \n",
    "\n",
    "compound_interest()\n",
    "    "
   ]
  },
  {
   "cell_type": "code",
   "execution_count": 17,
   "metadata": {},
   "outputs": [
    {
     "data": {
      "text/plain": [
       "1210.0000000000002"
      ]
     },
     "execution_count": 17,
     "metadata": {},
     "output_type": "execute_result"
    }
   ],
   "source": [
    "p = 1000\n",
    "r = 0.10\n",
    "\n",
    "accumulated = p * (1 + r) ** 2 \n",
    "accumulated"
   ]
  },
  {
   "cell_type": "code",
   "execution_count": 16,
   "metadata": {},
   "outputs": [
    {
     "data": {
      "text/plain": [
       "1210.0"
      ]
     },
     "execution_count": 16,
     "metadata": {},
     "output_type": "execute_result"
    }
   ],
   "source": [
    "accumulated * (1 + r)"
   ]
  },
  {
   "cell_type": "markdown",
   "metadata": {},
   "source": [
    "Exercise 10: Arithmetic\\\n",
    "(Solved—20 Lines)\n",
    "Create a program that reads two integers, a and b, from the user. Your program should\n",
    "compute and display:\n",
    "- The sum of a and b\n",
    "- The difference when b is subtracted from a\n",
    "- The product of a and b\n",
    "- The quotient when a is divided by b\n",
    "- The remainder when a is divided by b\n",
    "- The result of log10 (a)\n",
    "- The result of a^b\n",
    "\n",
    "Hint: You will probably find the log10 functio"
   ]
  },
  {
   "cell_type": "code",
   "execution_count": 30,
   "metadata": {},
   "outputs": [
    {
     "name": "stdout",
     "output_type": "stream",
     "text": [
      "First number: 2 Second number: 3\n",
      "Sum: 5\n",
      "Difference: -1\n",
      "Product: 6\n",
      "Quotient: 0.6666666666666666\n",
      "Remainder: 2\n",
      "Log of 2: 0.3010299956639812\n",
      "Exponential: 8\n"
     ]
    }
   ],
   "source": [
    "import math \n",
    "\n",
    "def arithmetic():\n",
    "    # prompt the user for two number inputs\n",
    "    a = int(input(\"Enter the first number: \"))\n",
    "    b = int(input(\"Enter the second number: \"))\n",
    "    \n",
    "    # do the computations\n",
    "    added = a + b\n",
    "    subtracted = a - b\n",
    "    multiplied = a * b\n",
    "    quotient = a / b\n",
    "    remainder = a % b\n",
    "    logarithm = math.log10(a)\n",
    "    exponential = a ** b\n",
    "    \n",
    "    return \"First number: {} Second number: {}\\nSum: {}\\nDifference: {}\\nProduct: {}\\nQuotient: {}\\nRemainder: {}\\nLog of {}: {}\\nExponential: {}\".format(a, b,added, subtracted, multiplied, quotient, remainder, a, logarithm, exponential)\n",
    "    \n",
    "print(arithmetic())    "
   ]
  },
  {
   "cell_type": "code",
   "execution_count": 22,
   "metadata": {},
   "outputs": [
    {
     "data": {
      "text/plain": [
       "7"
      ]
     },
     "execution_count": 22,
     "metadata": {},
     "output_type": "execute_result"
    }
   ],
   "source": [
    "15 // 2 # floor division"
   ]
  },
  {
   "cell_type": "code",
   "execution_count": 23,
   "metadata": {},
   "outputs": [
    {
     "data": {
      "text/plain": [
       "7.5"
      ]
     },
     "execution_count": 23,
     "metadata": {},
     "output_type": "execute_result"
    }
   ],
   "source": [
    "15 / 2"
   ]
  },
  {
   "cell_type": "code",
   "execution_count": 25,
   "metadata": {},
   "outputs": [
    {
     "data": {
      "text/plain": [
       "1"
      ]
     },
     "execution_count": 25,
     "metadata": {},
     "output_type": "execute_result"
    }
   ],
   "source": [
    "import math\n",
    "math.floor(1.9) # floor calculation"
   ]
  },
  {
   "cell_type": "code",
   "execution_count": 26,
   "metadata": {},
   "outputs": [
    {
     "data": {
      "text/plain": [
       "2"
      ]
     },
     "execution_count": 26,
     "metadata": {},
     "output_type": "execute_result"
    }
   ],
   "source": [
    "math.ceil(1.0005) # ceiling calculation"
   ]
  },
  {
   "cell_type": "code",
   "execution_count": 42,
   "metadata": {},
   "outputs": [
    {
     "data": {
      "text/plain": [
       "{1, 5, 6, 7}"
      ]
     },
     "execution_count": 42,
     "metadata": {},
     "output_type": "execute_result"
    }
   ],
   "source": [
    "setA= {1,2,3,4,5}\n",
    "setB = {4,2,3,6,7}\n",
    "\n",
    "setA ^ setB # set theory in python"
   ]
  },
  {
   "cell_type": "markdown",
   "metadata": {},
   "source": [
    "Exercise 11: Fuel Efficiency\\\n",
    "(13 Lines)\\\n",
    "\n",
    "In the United States, fuel efficiency for vehicles is normally expressed in miles-per-\n",
    "gallon (MPG). In Canada, fuel efficiency is normally expressed in liters-per-hundred\n",
    "kilometers (L/100 km). Use your research skills to determine how to convert from\n",
    "MPG to L/100 km. Then create a program that reads a value from the user in American\n",
    "units and displays the equivalent fuel efficiency in Canadian units.\n",
    "\n",
    "##### Our notes\n",
    "Convert from miles per gallon (MPG) to Litres per 100Km\n",
    "And vice versa:\n",
    "1 mile/gallon = 235.215L / 100Km"
   ]
  },
  {
   "cell_type": "code",
   "execution_count": 45,
   "metadata": {},
   "outputs": [
    {
     "data": {
      "text/plain": [
       "'2822.5800 Litres per 100km'"
      ]
     },
     "execution_count": 45,
     "metadata": {},
     "output_type": "execute_result"
    }
   ],
   "source": [
    "def fuel_efficiency():\n",
    "    option = float(input(\"Enter miles per gallon: \"))\n",
    "    \n",
    "    converted = option * 235.215\n",
    "    \n",
    "    return \"{:.4f} Litres per 100km\".format(converted)\n",
    "\n",
    "fuel_efficiency()"
   ]
  },
  {
   "cell_type": "markdown",
   "metadata": {},
   "source": [
    "Exercise 12: Distance Between Two Points on Earth\\\n",
    "(27 Lines)\\\n",
    "The surface of the Earth is curved, and the distance between degrees of longitude\n",
    "varies with latitude. As a result, finding the distance between two points on the surface\n",
    "of the Earth is more complicated than simply using the Pythagorean theorem.\n",
    "Let (t1 , g1 ) and (t2 , g2 ) be the latitude and longitude of two points on the Earth’s\n",
    "surface. The distance between these points, following the surface of the Earth, in\n",
    "kilometers is:\n",
    "distance = 6371.01 × arccos(sin(t1 ) × sin(t2 ) + cos(t1 ) × cos(t2 ) × cos(g1 − g2 ))\n",
    "The value 6371.01 in the previous equation wasn’t selected at random. It is\n",
    "the average radius of the Earth in kilometers.\n",
    "Create a program that allows the user to enter the latitude and longitude of two\n",
    "points on the Earth in degrees. Your program should display the distance between\n",
    "the points, following the surface of the earth, in kilometers."
   ]
  },
  {
   "cell_type": "markdown",
   "metadata": {},
   "source": [
    "### Python's trigonometric functions ---"
   ]
  },
  {
   "cell_type": "code",
   "execution_count": 46,
   "metadata": {},
   "outputs": [],
   "source": [
    "import math"
   ]
  },
  {
   "cell_type": "code",
   "execution_count": 51,
   "metadata": {},
   "outputs": [
    {
     "data": {
      "text/plain": [
       "0.49999999999999994"
      ]
     },
     "execution_count": 51,
     "metadata": {},
     "output_type": "execute_result"
    }
   ],
   "source": [
    "# sin\n",
    "math.sin(math.radians(30))"
   ]
  },
  {
   "cell_type": "markdown",
   "metadata": {},
   "source": [
    "2 * pi * radian = 360 degrees\n",
    "\n",
    "radian = 360 degrees /  (2 * pi)\n",
    "\n",
    "180 degrees = pi * radian"
   ]
  },
  {
   "cell_type": "code",
   "execution_count": 52,
   "metadata": {},
   "outputs": [
    {
     "data": {
      "text/plain": [
       "3.141592653589793"
      ]
     },
     "execution_count": 52,
     "metadata": {},
     "output_type": "execute_result"
    }
   ],
   "source": [
    "math.radians(180)"
   ]
  },
  {
   "cell_type": "code",
   "execution_count": 53,
   "metadata": {},
   "outputs": [
    {
     "data": {
      "text/plain": [
       "0.5000000000000001"
      ]
     },
     "execution_count": 53,
     "metadata": {},
     "output_type": "execute_result"
    }
   ],
   "source": [
    "math.cos(math.radians(60))"
   ]
  },
  {
   "cell_type": "markdown",
   "metadata": {},
   "source": [
    "Ask the user for the two coordinates (a,b), (c,d)\n",
    "convert to radians first\n",
    "then use the given formula to compute the distance between the two points"
   ]
  },
  {
   "cell_type": "code",
   "execution_count": 68,
   "metadata": {},
   "outputs": [
    {
     "data": {
      "text/plain": [
       "'5559.7551km'"
      ]
     },
     "execution_count": 68,
     "metadata": {},
     "output_type": "execute_result"
    }
   ],
   "source": [
    "def distance_between_two_points():\n",
    "    coordinatesA = input(\"Enter the latitude and longitude of point A: (i.e x,y)\")\n",
    "    coordinatesB = input(\"Enter the latitude and longitude of point B: (i.e x,y)\")\n",
    "    \n",
    "    \n",
    "    latitudeA = list(map(float, coordinatesA.split(\",\")))[0]\n",
    "    longitudeA = list(map(float, coordinatesA.split(\",\")))[1]\n",
    "    latitudeB = list(map(float, coordinatesB.split(\",\")))[0]\n",
    "    longitudeB = list(map(float, coordinatesB.split(\",\")))[1]\n",
    "    \n",
    "    # convert to radians\n",
    "    longitudeA, longitudeB, latitudeA, latitudeB = math.radians(longitudeA), math.radians(longitudeB), math.radians(latitudeA), math.radians(latitudeB)\n",
    "    \n",
    "    \n",
    "    # apply the distance computation formula\n",
    "    distance = 6371.01 * math.acos(math.sin(latitudeA) * math.sin(latitudeB) + math.cos(latitudeA) * math.cos(latitudeB) * math.cos(longitudeA - longitudeB)) \n",
    "    \n",
    "    return \"{:.4f}km\".format(distance)\n",
    "\n",
    "distance_between_two_points()"
   ]
  },
  {
   "cell_type": "code",
   "execution_count": 59,
   "metadata": {},
   "outputs": [
    {
     "data": {
      "text/plain": [
       "[12.5, 15.7]"
      ]
     },
     "execution_count": 59,
     "metadata": {},
     "output_type": "execute_result"
    }
   ],
   "source": [
    "list(map(float, \"12.5, 15.7\".split(\",\")))"
   ]
  },
  {
   "cell_type": "markdown",
   "metadata": {},
   "source": [
    "#### map, filter and reduce"
   ]
  },
  {
   "cell_type": "code",
   "execution_count": 62,
   "metadata": {},
   "outputs": [
    {
     "name": "stdout",
     "output_type": "stream",
     "text": [
      "[1, 4, 9, 16, 25, 36, 49, 64, 81, 100]\n"
     ]
    }
   ],
   "source": [
    "### map\n",
    "numbers = [i for i in range(1,11)]\n",
    "\n",
    "# lambda is anonymous function\n",
    "# map(function (callback function), iterable)\n",
    "squared_nums = map(lambda x: x**2, numbers)\n",
    "print(list(squared_nums))"
   ]
  },
  {
   "cell_type": "code",
   "execution_count": 63,
   "metadata": {},
   "outputs": [
    {
     "name": "stdout",
     "output_type": "stream",
     "text": [
      "[18, 24, 54, 68]\n"
     ]
    }
   ],
   "source": [
    "# filter\n",
    "def adult(age):\n",
    "    return age >= 18\n",
    "\n",
    "ages = [12, 18, 24, 54, 10, 68]\n",
    "\n",
    "filtered_ages = filter(adult, ages)\n",
    "print(list(filtered_ages))"
   ]
  },
  {
   "cell_type": "code",
   "execution_count": 65,
   "metadata": {},
   "outputs": [
    {
     "data": {
      "text/plain": [
       "[1, 0]"
      ]
     },
     "execution_count": 65,
     "metadata": {},
     "output_type": "execute_result"
    }
   ],
   "source": [
    "list(map(int, \"10\"))"
   ]
  },
  {
   "cell_type": "code",
   "execution_count": 66,
   "metadata": {},
   "outputs": [
    {
     "name": "stdout",
     "output_type": "stream",
     "text": [
      "1\n",
      "0\n"
     ]
    }
   ],
   "source": [
    "for i in \"10\":\n",
    "    print(i)"
   ]
  },
  {
   "cell_type": "code",
   "execution_count": 72,
   "metadata": {},
   "outputs": [
    {
     "name": "stdout",
     "output_type": "stream",
     "text": [
      "The sum of the list elements is : 17\n",
      "The maximum element of the list is : 6\n"
     ]
    }
   ],
   "source": [
    "# importing functools for reduce() \n",
    "import functools \n",
    "  \n",
    "# initializing list \n",
    "lis = [1, 3, 5, 6, 2] \n",
    "  \n",
    "# using reduce to compute sum of list \n",
    "print(\"The sum of the list elements is : \", end=\"\") \n",
    "print(functools.reduce(lambda a, b: a+b, lis)) \n",
    "  \n",
    "# using reduce to compute maximum element from list \n",
    "print(\"The maximum element of the list is : \", end=\"\") \n",
    "print(functools.reduce(lambda a, b: a if a > b else b, lis)) "
   ]
  }
 ],
 "metadata": {
  "kernelspec": {
   "display_name": "Python 3",
   "language": "python",
   "name": "python3"
  },
  "language_info": {
   "codemirror_mode": {
    "name": "ipython",
    "version": 3
   },
   "file_extension": ".py",
   "mimetype": "text/x-python",
   "name": "python",
   "nbconvert_exporter": "python",
   "pygments_lexer": "ipython3",
   "version": "3.12.2"
  }
 },
 "nbformat": 4,
 "nbformat_minor": 2
}
