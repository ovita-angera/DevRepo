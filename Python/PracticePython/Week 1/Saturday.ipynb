{
 "cells": [
  {
   "cell_type": "markdown",
   "metadata": {},
   "source": [
    "#### Work on python workbook\n",
    "- %d - a place holder or a format specifier for a decimal integer (just an ordinary integer)\n",
    "- %c - a character \n",
    "- %s - a string\n",
    "- %f - a float or a double\n",
    "\n",
    "- These specifiers were used\n",
    "- Today, python uses, f strings and .format() method"
   ]
  },
  {
   "cell_type": "markdown",
   "metadata": {},
   "source": [
    "### Problem 1\n",
    "Exercise 1: Mailing Address\\\n",
    "(Solved—9 Lines)\n",
    "Create a program that displays your name and complete mailing address formatted in\n",
    "the manner that you would usually see it on the outside of an envelope. Your program\n",
    "does not need to read any input from the user."
   ]
  },
  {
   "cell_type": "code",
   "execution_count": 4,
   "metadata": {},
   "outputs": [
    {
     "name": "stdout",
     "output_type": "stream",
     "text": [
      "Name: Brian\n",
      "Address: P.O.Box 12345-00100\n"
     ]
    }
   ],
   "source": [
    "# we create a function to do the above\n",
    "def printMailingInfo(name, address):\n",
    "    information = \"Name: {}\\nAddress: {}\".format(name, address)\n",
    "    print(information)\n",
    "    \n",
    "name = \"Brian\"\n",
    "address = \"P.O.Box 12345-00100\"\n",
    "\n",
    "printMailingInfo(name, address)"
   ]
  },
  {
   "cell_type": "markdown",
   "metadata": {},
   "source": [
    "Exercise 2: Hello\\\n",
    "(9 Lines)\n",
    "Write a program that asks the user to enter his or her name. The program should\n",
    "respond with a message that says hello to the user, using his or her name."
   ]
  },
  {
   "cell_type": "code",
   "execution_count": 3,
   "metadata": {},
   "outputs": [
    {
     "name": "stdout",
     "output_type": "stream",
     "text": [
      "Hello, Edwin!\n"
     ]
    }
   ],
   "source": [
    "# our solution\n",
    "def greetings():\n",
    "    name = input(\"Kindly write your name: \")\n",
    "    print(\"Hello, {}!\".format(name))\n",
    "    \n",
    "greetings()"
   ]
  },
  {
   "cell_type": "markdown",
   "metadata": {},
   "source": [
    "Exercise 3: Area of a Room\\\n",
    "(Solved—13 Lines)\\\n",
    "Write a program that asks the user to enter the width and length of a room. Once\n",
    "the values have been read, your program should compute and display the area of the\n",
    "room. The length and the width will be entered as floating point numbers. Include\n",
    "units in your prompt and output message; either feet or meters, depending on which\n",
    "unit you are more comfortable working with."
   ]
  },
  {
   "cell_type": "code",
   "execution_count": 10,
   "metadata": {},
   "outputs": [
    {
     "name": "stdout",
     "output_type": "stream",
     "text": [
      "Length: 12.0m\n",
      "Width: 12.0m\n",
      "Area: 144.0m^2\n"
     ]
    }
   ],
   "source": [
    "def roomArea():\n",
    "    length = float(input(\"Enter the length of your room (meters): \"))\n",
    "    width = float(input(\"Enter the width of your room (meters): \"))\n",
    "    \n",
    "    area = length * width\n",
    "    \n",
    "    return f\"Length: {length}m\\nWidth: {width}m\\nArea: {area}m^2\"\n",
    "\n",
    "result = roomArea()\n",
    "print(result)"
   ]
  },
  {
   "cell_type": "markdown",
   "metadata": {},
   "source": [
    "Exercise 5: Bottle Deposits\\\n",
    "(Solved—15 Lines)\\\n",
    "In many jurisdictions a small deposit is added to drink containers to encourage people\n",
    "to recycle them. In one particular jurisdiction, drink containers holding one liter or\n",
    "less have a $0.10 deposit, and drink containers holding more than one liter have a\n",
    "$0.25 deposit.\\\n",
    "Write a program that reads the number of containers of each size from the user.\n",
    "Your program should continue by computing and displaying the refund that will be\n",
    "received for returning those containers. Format the output so that it includes a dollar\n",
    "sign and always displays exactly two decimal places."
   ]
  },
  {
   "cell_type": "markdown",
   "metadata": {},
   "source": [
    "#### Our logic\n",
    "One customer has a certain number of bottles of different sizes\n",
    "Customer A = [1, 0.75, 3, 0.25, 0.5, 5, 4, 8] => 8 bottles\n",
    "Custoer A refund = 0.1 + 0.1 + 0.25 + 0.1 + 0.1 + 0.25 + 0.25 + 0.25"
   ]
  },
  {
   "cell_type": "code",
   "execution_count": 18,
   "metadata": {},
   "outputs": [
    {
     "data": {
      "text/plain": [
       "'$1.40'"
      ]
     },
     "execution_count": 18,
     "metadata": {},
     "output_type": "execute_result"
    }
   ],
   "source": [
    "# approach A: takes in an array of bottle sizes\n",
    "def computeRefund(bottleSizes):\n",
    "    refund = 0\n",
    "    \n",
    "    if bottleSizes: # similar to if bottleSizes > 0\n",
    "        for i in range(len(bottleSizes)):\n",
    "            if 0 < bottleSizes[i] <= 1:\n",
    "                refund += 0.1\n",
    "            elif bottleSizes[i] > 1:\n",
    "                refund += 0.25\n",
    "            else:\n",
    "                refund += 0\n",
    "    return \"${:.2f}\".format(refund) # a method to define a consistent dispaly of decimal places\n",
    "    # otherwise, one can use the round() function\n",
    "\n",
    "\n",
    "# test the function\n",
    "customerA = [1, 0.75, 3, 0.25, 0.5, 5, 4, 8] \n",
    "computeRefund(customerA)"
   ]
  },
  {
   "cell_type": "code",
   "execution_count": 19,
   "metadata": {},
   "outputs": [
    {
     "data": {
      "text/plain": [
       "'$1.57'"
      ]
     },
     "execution_count": 19,
     "metadata": {},
     "output_type": "execute_result"
    }
   ],
   "source": [
    "value = \"${:.2f}\".format(1.56789) # using a format specifier\n",
    "value"
   ]
  },
  {
   "cell_type": "code",
   "execution_count": 20,
   "metadata": {},
   "outputs": [
    {
     "data": {
      "text/plain": [
       "'1.57'"
      ]
     },
     "execution_count": 20,
     "metadata": {},
     "output_type": "execute_result"
    }
   ],
   "source": [
    "value = \"${}\".format(round(1.56789, 2)) # using the round function\n",
    "value"
   ]
  },
  {
   "cell_type": "code",
   "execution_count": 24,
   "metadata": {},
   "outputs": [
    {
     "data": {
      "text/plain": [
       "'$0.50'"
      ]
     },
     "execution_count": 24,
     "metadata": {},
     "output_type": "execute_result"
    }
   ],
   "source": [
    "# Approach 2: A method to answer the given question\n",
    "def computeRefundVersionTwo():\n",
    "    refund = 0\n",
    "    try:\n",
    "        numberOfBottles = int(input(\"Enter the number of bottles you have for recycling: \"))\n",
    "        \n",
    "        for i in range(numberOfBottles):\n",
    "            size = float(input(\"Enter size of bottle: \"))\n",
    "            \n",
    "            if 0 < size <= 1:\n",
    "                refund += 0.1\n",
    "            elif size > 1:\n",
    "                refund += 0.25\n",
    "            else:\n",
    "                refund += 0\n",
    "    except:\n",
    "        print('Something went wrong. The value you entered was not a number')\n",
    "    return \"${:.2f}\".format(refund)\n",
    "    \n",
    "computeRefundVersionTwo()"
   ]
  },
  {
   "cell_type": "markdown",
   "metadata": {},
   "source": [
    "Exercise 6: Tax and Tip\\\n",
    "(Solved—17 Lines)\\\n",
    "The program that you create for this exercise will begin by reading the cost of a meal\n",
    "ordered at a restaurant from the user. Then your program will compute the tax and\n",
    "tip for the meal. Use your local tax rate when computing the amount of tax owing.\n",
    "Compute the tip as 18 percent of the meal amount (without the tax). The output from\n",
    "your program should include the tax amount, the tip amount, and the grand total for\n",
    "the meal including both the tax and the tip. Format the output so that all of the values\n",
    "are displayed using two decimal places."
   ]
  },
  {
   "cell_type": "code",
   "execution_count": 26,
   "metadata": {},
   "outputs": [
    {
     "name": "stdout",
     "output_type": "stream",
     "text": [
      "Total: 250.0\n",
      "Tax: 40.0\n",
      "Tip: 45.0\n"
     ]
    }
   ],
   "source": [
    "def taxAndTip():\n",
    "    mealAmount = float(input(\"Enter the cost of the meal ordered: \"))\n",
    "    \n",
    "    tax = 0.16 * mealAmount; tip = 0.18 * mealAmount\n",
    "    \n",
    "    return \"Total: {}\\nTax: {}\\nTip: {}\".format(mealAmount, tax, tip)\n",
    "\n",
    "print(taxAndTip())"
   ]
  },
  {
   "cell_type": "code",
   "execution_count": null,
   "metadata": {},
   "outputs": [],
   "source": []
  }
 ],
 "metadata": {
  "kernelspec": {
   "display_name": "Python 3",
   "language": "python",
   "name": "python3"
  },
  "language_info": {
   "codemirror_mode": {
    "name": "ipython",
    "version": 3
   },
   "file_extension": ".py",
   "mimetype": "text/x-python",
   "name": "python",
   "nbconvert_exporter": "python",
   "pygments_lexer": "ipython3",
   "version": "3.12.2"
  }
 },
 "nbformat": 4,
 "nbformat_minor": 2
}
