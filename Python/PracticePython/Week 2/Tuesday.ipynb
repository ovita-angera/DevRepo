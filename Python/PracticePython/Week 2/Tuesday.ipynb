{
 "cells": [
  {
   "cell_type": "code",
   "execution_count": 1,
   "metadata": {},
   "outputs": [
    {
     "name": "stdout",
     "output_type": "stream",
     "text": [
      "6.0000\n"
     ]
    }
   ],
   "source": [
    "def area_of_triangle(base, height):\n",
    "    area = 0.5 * base * height\n",
    "    return \"{:.4f}\".format(area)\n",
    "\n",
    "def main():\n",
    "    # prompt the user for input\n",
    "    base = float(input(\"Enter the base of the triangle: \"))\n",
    "    height = float(input(\"Enter the height of the triangle: \"))\n",
    "    \n",
    "    result = area_of_triangle(base, height)\n",
    "    \n",
    "    print(result)\n",
    "\n",
    "main()"
   ]
  },
  {
   "cell_type": "markdown",
   "metadata": {},
   "source": [
    "Exercise 22: Area of a Triangle (Again)\n",
    "(16 Lines)\n",
    "In the previous exercise you created a program that computed the area of a triangle\n",
    "when the length of its base and its height were known. It is also possible to compute\n",
    "the area of a triangle when the lengths of all three sides are known. Let s1 , s2 and s3\n",
    "be the lengths of the sides. Let s = (s1 + s2 + s3 )/2. Then the area of the triangle\n",
    "can be calculated using the following formula:\n",
    "\u0003\n",
    "area = s × (s − s1 ) × (s − s2 ) × (s − s3 )\n",
    "Develop a program that reads the lengths of the sides of a triangle from the user and\n",
    "displays its area"
   ]
  },
  {
   "cell_type": "code",
   "execution_count": 8,
   "metadata": {},
   "outputs": [
    {
     "name": "stdout",
     "output_type": "stream",
     "text": [
      "97.4279\n"
     ]
    }
   ],
   "source": [
    "from math import sqrt\n",
    "\n",
    "def area_triangle(s1, s2, s3):\n",
    "    s = (s1 + s2 + s3) / 2\n",
    "    \n",
    "    area = sqrt(s * (s - s1) * (s - s2) * (s - s3))\n",
    "    \n",
    "    return \"{:.4f}\".format(area)\n",
    "\n",
    "def main():\n",
    "    # prompt the user for the three sides of a triangle\n",
    "    sides = input(\"Enter the three sides of a triangle. i.e x,y,z: \")\n",
    "    \n",
    "    sides = list(map(float, sides.split(\",\")))\n",
    "    \n",
    "    result = area_triangle(sides[0], sides[1], sides[2])\n",
    "    \n",
    "    print(result)\n",
    "    \n",
    "main()"
   ]
  },
  {
   "cell_type": "code",
   "execution_count": 2,
   "metadata": {},
   "outputs": [
    {
     "data": {
      "text/plain": [
       "[1.0, 2.0, 3.0]"
      ]
     },
     "execution_count": 2,
     "metadata": {},
     "output_type": "execute_result"
    }
   ],
   "source": [
    "nums = \"1,2,3\".split(\",\")\n",
    "nums = list(map(float, nums))\n",
    "nums"
   ]
  },
  {
   "cell_type": "markdown",
   "metadata": {},
   "source": [
    "Exercise 23: Area of a Regular Polygon\n",
    "(Solved—14 Lines)\n",
    "A polygon is regular if its sides are all the same length and the angles between all of\n",
    "the adjacent sides are equal. The area of a regular polygon can be computed using\n",
    "the following formula, where s is the length of a side and n is the number of sides:\\\n"
   ]
  },
  {
   "cell_type": "code",
   "execution_count": 9,
   "metadata": {},
   "outputs": [
    {
     "name": "stdout",
     "output_type": "stream",
     "text": [
      "97.4279\n"
     ]
    }
   ],
   "source": [
    "from math import pi, tan\n",
    "\n",
    "def area_of_polygon(size, sides):\n",
    "    area = (sides * size ** 2) / (4 * tan(pi / sides))\n",
    "    \n",
    "    return \"{:.4f}\".format(area)\n",
    "\n",
    "def main():\n",
    "    # prompt the user for input\n",
    "    number_of_sides = int(input(\"Enter the number of sides of the polygon: \"))\n",
    "    size_of_side = float(input(\"Enter the size of one side of the polygon: \"))\n",
    "    \n",
    "    result = area_of_polygon(size_of_side, number_of_sides)\n",
    "    \n",
    "    print(result)\n",
    "    \n",
    "main()"
   ]
  },
  {
   "cell_type": "markdown",
   "metadata": {},
   "source": [
    "$y = 4x^2 + 2x - 8$"
   ]
  },
  {
   "cell_type": "markdown",
   "metadata": {},
   "source": [
    "$y = 4 * x ^ 2 + 2 * x - 8$"
   ]
  },
  {
   "cell_type": "markdown",
   "metadata": {},
   "source": [
    "Exercise 24: Units of Time\\\n",
    "(22 Lines)\n",
    "Create a program that reads a duration from the user as a number of days, hours,\n",
    "minutes, and seconds. Compute and display the total number of seconds represented\n",
    "by this duration.\n",
    "\n",
    "Exercise 25: Units of Time (Again)\\\n",
    "(Solved—24 Lines)\n",
    "In this exercise you will reverse the process described in the previous exercise.\n",
    "Develop a program that begins by reading a number of seconds from the user.\n",
    "Then your program should display the equivalent amount of time in the form\n",
    "D:HH:MM:SS, where D, HH, MM, and SS represent days, hours, minutes and sec-\n",
    "onds respectively. The hours, minutes and seconds should all be formatted so that\n",
    "they occupy exactly two digits, with a leading 0 displayed if necessary."
   ]
  },
  {
   "cell_type": "code",
   "execution_count": 2,
   "metadata": {},
   "outputs": [
    {
     "name": "stdout",
     "output_type": "stream",
     "text": [
      "90061\n"
     ]
    }
   ],
   "source": [
    "def convert_to_seconds():\n",
    "    days = int(input(\"Enter number of days: \"))\n",
    "    hours = int(input(\"Enter number of hours: \"))\n",
    "    minutes = int(input(\"Enter number of minutes: \"))\n",
    "    seconds = int(input(\"Enter number of seconds: \"))\n",
    "    \n",
    "    \n",
    "    total_seconds = days * 24 * 60 * 60 + hours * 60 * 60 + minutes * 60 + seconds\n",
    "    \n",
    "    return \"{}\".format(total_seconds)\n",
    "\n",
    "print(convert_to_seconds())"
   ]
  },
  {
   "cell_type": "code",
   "execution_count": 3,
   "metadata": {},
   "outputs": [
    {
     "data": {
      "text/plain": [
       "90061"
      ]
     },
     "execution_count": 3,
     "metadata": {},
     "output_type": "execute_result"
    }
   ],
   "source": [
    "1 * 24 * 60 * 60 + 1 * 60 * 60 + 1 * 60 + 1"
   ]
  },
  {
   "cell_type": "markdown",
   "metadata": {},
   "source": [
    "1 day = 86400 seconds\n",
    "1 hour = 3600 seconds\n",
    "1 minute = 60 seconds"
   ]
  },
  {
   "cell_type": "code",
   "execution_count": 10,
   "metadata": {},
   "outputs": [
    {
     "name": "stdout",
     "output_type": "stream",
     "text": [
      "01:03:46:40\n"
     ]
    }
   ],
   "source": [
    "def reverse_convert_from_seconds(seconds):\n",
    "    days = seconds // 86400\n",
    "    rem1 = seconds % 86400\n",
    "    hours = rem1 // 3600\n",
    "    rem2 = rem1 % 3600\n",
    "    minutes = rem2 // 60\n",
    "    rem3 = rem2 % 60\n",
    "    \n",
    "    return \"{:02d}:{:02d}:{:02d}:{:02d}\".format(days, hours, minutes, rem3)\n",
    "\n",
    "value = int(input(\"Enter number of seconds: \"))\n",
    "print(reverse_convert_from_seconds(value))"
   ]
  },
  {
   "cell_type": "markdown",
   "metadata": {},
   "source": [
    "Formatting an integer with a leading zero\\\n",
    "Use \"{:number of leading zeros}\".format(...data)\n",
    "\\\n",
    "Example:\\\n",
    "\"{:02d}\".format(1) => 01\\\n",
    "\"{:05d}\".format(5) => 00005"
   ]
  },
  {
   "cell_type": "code",
   "execution_count": 11,
   "metadata": {},
   "outputs": [
    {
     "data": {
      "text/plain": [
       "100000"
      ]
     },
     "execution_count": 11,
     "metadata": {},
     "output_type": "execute_result"
    }
   ],
   "source": [
    "40 + 46 * 60 + 3 * 3600 + 86400"
   ]
  },
  {
   "cell_type": "code",
   "execution_count": 24,
   "metadata": {},
   "outputs": [
    {
     "name": "stdout",
     "output_type": "stream",
     "text": [
      "                 1\n"
     ]
    }
   ],
   "source": [
    "print(\"{:08d}\".format(1)) # format to a particular number of digits"
   ]
  },
  {
   "cell_type": "markdown",
   "metadata": {},
   "source": [
    "Exercise 26: Current Time\\\n",
    "(10 Lines)\n",
    "Python includes a library of functions for working with time, including a function\n",
    "called asctime in the time module. It reads the current time from the com-\n",
    "puter’s internal clock and returns it in a human-readable format. Write a program\n",
    "that displays the current time and date. Your program will not require any input from\n",
    "the user."
   ]
  },
  {
   "cell_type": "code",
   "execution_count": 14,
   "metadata": {},
   "outputs": [
    {
     "data": {
      "text/plain": [
       "'Thu Apr 18 22:13:29 2024'"
      ]
     },
     "execution_count": 14,
     "metadata": {},
     "output_type": "execute_result"
    }
   ],
   "source": [
    "from time import asctime\n",
    "asctime()"
   ]
  },
  {
   "cell_type": "code",
   "execution_count": 18,
   "metadata": {},
   "outputs": [
    {
     "data": {
      "text/plain": [
       "'22:16:15'"
      ]
     },
     "execution_count": 18,
     "metadata": {},
     "output_type": "execute_result"
    }
   ],
   "source": [
    "current = asctime().split()\n",
    "\n",
    "currentTime = current[3]\n",
    "currentDate = current[2] + '/ ' + current[1] + '/ ' + current[-1]\n",
    "\n",
    "currentTime\n"
   ]
  },
  {
   "cell_type": "markdown",
   "metadata": {},
   "source": [
    "Takeaway\\\n",
    "asctime() from the time package - returns current time from the computer's internal clock in a human-readable format"
   ]
  },
  {
   "cell_type": "markdown",
   "metadata": {},
   "source": [
    "Exercise 27: Body Mass Index\\\n",
    "(14 Lines)\n",
    "\n",
    "Write a program that computes the body mass index (BMI) of an individual. Your\n",
    "program should begin by reading a height and weight from the user. Then it should\n",
    "\n",
    "use one of the following two formulas to compute the BMI before displaying it. If\n",
    "you read the height in inches and the weight in pounds then body mass index is\n",
    "computed using the following formula:\n",
    "BMI =\n",
    "weight\n",
    "× 703.\n",
    "height × height\n",
    "If you read the height in meters and the weight in kilograms then body mass index\n",
    "is computed using this slightly simpler formula:\n",
    "BMI =\n",
    "weight\n",
    ".\n",
    "height × height"
   ]
  },
  {
   "cell_type": "code",
   "execution_count": 28,
   "metadata": {},
   "outputs": [
    {
     "name": "stdout",
     "output_type": "stream",
     "text": [
      "25.0995\n"
     ]
    }
   ],
   "source": [
    "def BMI(height, weight):\n",
    "    result = weight / height ** 2\n",
    "    \n",
    "    system = int(input(\"1. Inches/Pounds\\n2.Meter/Kilograms: \"))\n",
    "    \n",
    "    if system == 1:\n",
    "        value = result * 703\n",
    "    else:\n",
    "        value = result\n",
    "        \n",
    "    return value\n",
    "\n",
    "weight = float(input(\"Enter weight: \"))\n",
    "height = float(input(\"Enter height: \"))\n",
    "    \n",
    "print(\"{:.4f}\".format(BMI(height, weight)))"
   ]
  },
  {
   "cell_type": "markdown",
   "metadata": {},
   "source": [
    "Exercise 28: Wind Chill\n",
    "(Solved—22 Lines)\n",
    "When the wind blows in cold weather, the air feels even colder than it actually is\n",
    "because the movement of the air increases the rate of cooling for warm objects, like\n",
    "people. This effect is known as wind chill.\n",
    "In 2001, Canada, the United Kingdom and the United States adopted the fol-\n",
    "lowing formula for computing the wind chill index. Within the formula Ta is the\n",
    "air temperature in degrees Celsius and V is the wind speed in kilometers per hour.\n",
    "A similar formula with different constant values can be used with temperatures in\n",
    "degrees Fahrenheit and wind speeds in miles per hour.\n",
    "WCI = 13.12 + 0.6215Ta − 11.37V 0.16 + 0.3965Ta V 0.16\n",
    "Write a program that begins by reading the air temperature and wind speed from the\n",
    "user. Once these values have been read your program should display the wind chill\n",
    "index rounded to the closest integer.\n",
    "The wind chill index is only considered valid for temperatures less than or\n",
    "equal to 10 degrees Celsius and wind speeds exceeding 4.8 kilometers per\n",
    "hour."
   ]
  },
  {
   "cell_type": "code",
   "execution_count": 32,
   "metadata": {},
   "outputs": [
    {
     "data": {
      "text/plain": [
       "9"
      ]
     },
     "execution_count": 32,
     "metadata": {},
     "output_type": "execute_result"
    }
   ],
   "source": [
    "def wind_chill(airTemp, windSpeed):\n",
    "    wci = 13.12 + 0.6215 * airTemp - 11.37 * windSpeed ** 0.16 + 0.3965 * airTemp * windSpeed ** 0.16\n",
    "    \n",
    "    return round(wci)\n",
    "\n",
    "air_temp = float(input(\"Enter air temperature (< 10 degrees): \"))\n",
    "wind_speed = float(input(\"Enter wind speed ( > 4.8km/hr): \"))\n",
    "\n",
    "wind_chill(air_temp, wind_speed)\n"
   ]
  },
  {
   "cell_type": "markdown",
   "metadata": {},
   "source": [
    "Exercise 29: Celsius to Fahrenheit and Kelvin\\\n",
    "(17 Lines)\n",
    "Write a program that begins by reading a temperature from the user in degrees\n",
    "Celsius. Then your program should display the equivalent temperature in degrees\n",
    "Fahrenheit and degrees Kelvin. The calculations needed to convert between different\n",
    "units of temperature can be found on the internet."
   ]
  },
  {
   "cell_type": "code",
   "execution_count": 33,
   "metadata": {},
   "outputs": [
    {
     "name": "stdout",
     "output_type": "stream",
     "text": [
      "In Fahrenheit: 89.6000\n",
      "In kelvin: 305.1500\n"
     ]
    }
   ],
   "source": [
    "def temperature_conversion(celcius):\n",
    "    fahr = (celcius * 9 /5) + 32\n",
    "    kelvin = celcius + 273.15\n",
    "    \n",
    "    return \"In Fahrenheit: {:.4f}\\nIn kelvin: {:.4f}\".format(fahr, kelvin)\n",
    "\n",
    "degrees = float(input(\"Enter temperature(in degrees celcius): \"))\n",
    "print(temperature_conversion(degrees))"
   ]
  },
  {
   "cell_type": "markdown",
   "metadata": {},
   "source": [
    "Exercise 30: Units of Pressure\\\n",
    "(20 Lines)\n",
    "In this exercise you will create a program that reads a pressure from the user in kilo-\n",
    "pascals. Once the pressure has been read your program should report the equivalent\n",
    "pressure in pounds per square inch, millimeters of mercury and atmospheres. Use\n",
    "your research skills to determine the conversion factors between these units."
   ]
  },
  {
   "cell_type": "markdown",
   "metadata": {},
   "source": [
    "Exercise 31: Sum of the Digits in an Integer\\\n",
    "(18 Lines)\\\n",
    "Develop a program that reads a four-digit integer from the user and displays the sum\n",
    "of the digits in the number. For example, if the user enters 3141 then your program\n",
    "should display 3 + 1 + 4 + 1 = 9."
   ]
  },
  {
   "cell_type": "code",
   "execution_count": 39,
   "metadata": {},
   "outputs": [
    {
     "data": {
      "text/plain": [
       "15"
      ]
     },
     "execution_count": 39,
     "metadata": {},
     "output_type": "execute_result"
    }
   ],
   "source": [
    "def sum_of_digits(number):\n",
    "    digits = [digit for digit in number] # list comprehensions\n",
    "    digits = sum(list(map(int, digits))) # the map method to convert each element in the list into an integer in one operation\n",
    "    \n",
    "    return digits\n",
    "\n",
    "number = input(\"Enter a number: \")\n",
    "sum_of_digits(number)"
   ]
  },
  {
   "cell_type": "markdown",
   "metadata": {},
   "source": [
    "Exercise 32: Sort 3 Integers\\\n",
    "(Solved—19 Lines)\n",
    "Create a program that reads three integers from the user and displays them in sorted\n",
    "order (from smallest to largest). Use the min and max functions to find the smallest\n",
    "and largest values. The middle value can be found by computing the sum of all three\n",
    "values, and then subtracting the minimum value and the maximum value."
   ]
  },
  {
   "cell_type": "code",
   "execution_count": 41,
   "metadata": {},
   "outputs": [
    {
     "data": {
      "text/plain": [
       "'1, 4, 6'"
      ]
     },
     "execution_count": 41,
     "metadata": {},
     "output_type": "execute_result"
    }
   ],
   "source": [
    "def sorted_integers():\n",
    "    int1 = int(input('Enter first integer: '))\n",
    "    int2 = int(input('Enter second integer: '))\n",
    "    int3 = int(input('Enter last integer: '))\n",
    "    \n",
    "    minimum = min([int1, int2, int3])\n",
    "    maximum = max([int1, int2, int3])\n",
    "    middle = sum([int1, int2, int3]) - sum([minimum, maximum])\n",
    "    \n",
    "    return \"{}, {}, {}\".format(minimum, middle, maximum)\n",
    "\n",
    "sorted_integers()"
   ]
  },
  {
   "cell_type": "markdown",
   "metadata": {},
   "source": [
    "Exercise 33: Day Old Bread\\\n",
    "(Solved—19 Lines)\\\n",
    "A bakery sells loaves of bread for $3.49 each. Day old bread is discounted by 60\n",
    "percent. Write a program that begins by reading the number of loaves of day old\n",
    "bread being purchased from the user. Then your program should display the regular\n",
    "price for the bread, the discount because it is a day old, and the total price. All of the\n",
    "values should be displayed using two decimal places, and the decimal points in all\n",
    "of the numbers should be aligned when reasonable values are entered by the user."
   ]
  },
  {
   "cell_type": "code",
   "execution_count": 45,
   "metadata": {},
   "outputs": [
    {
     "name": "stdout",
     "output_type": "stream",
     "text": [
      "Regular: $41.8800\n",
      "Discount: $25.1280\n",
      "Total: $16.7520\n"
     ]
    }
   ],
   "source": [
    "def price_of_bread(number):\n",
    "    regular = 3.49 * number\n",
    "    discount = 0.6* regular\n",
    "    price = 0.4 * regular\n",
    "    \n",
    "    return \"Regular: ${:.4f}\\nDiscount: ${:.4f}\\nTotal: ${:.4f}\".format(regular, discount, price)\n",
    "\n",
    "number = int(input(\"Enter number of day old loafs of bread: \"))\n",
    "print(price_of_bread(number))"
   ]
  }
 ],
 "metadata": {
  "kernelspec": {
   "display_name": "Python 3",
   "language": "python",
   "name": "python3"
  },
  "language_info": {
   "codemirror_mode": {
    "name": "ipython",
    "version": 3
   },
   "file_extension": ".py",
   "mimetype": "text/x-python",
   "name": "python",
   "nbconvert_exporter": "python",
   "pygments_lexer": "ipython3",
   "version": "3.12.2"
  }
 },
 "nbformat": 4,
 "nbformat_minor": 2
}
