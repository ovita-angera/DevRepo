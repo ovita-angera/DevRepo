{
 "cells": [
  {
   "cell_type": "markdown",
   "metadata": {},
   "source": [
    "Exercise 13: Making Change\\\n",
    "(Solved—33 Lines)\\\n",
    "Consider the software that runs on a self-checkout machine. One task that it must be\n",
    "able to perform is to determine how much change to provide when the shopper pays\n",
    "for a purchase with cash.\n",
    "Write a program that begins by reading a number of cents from the user as an\n",
    "integer. Then your program should compute and display the denominations of the\n",
    "coins that should be used to give that amount of change to the shopper. The change\n",
    "should be given using as few coins as possible. Assume that the machine is loaded\n",
    "with pennies, nickels, dimes, quarters, loonies and toonies.\n",
    "A one dollar coin was introduced in Canada in 1987. It is referred to as a\n",
    "loonie because one side of the coin has a loon (a type of bird) on it. The two\n",
    "dollar coin, referred to as a toonie, was introduced 9 years later. It’s name is\n",
    "derived from the combination of the number two and the name of the loonie."
   ]
  },
  {
   "cell_type": "markdown",
   "metadata": {},
   "source": [
    "### notes\n",
    "1 dollar = 100cents\n",
    "\n",
    "penny = 1 cent\n",
    "nickel = 5 cent\n",
    "dime = 10 cents\n",
    "quarter = 25 cents\n",
    "loonie = 1 dollar\n",
    "toonie = 2 dollars\n",
    "\n",
    "The user enters number of cents\n",
    "We are supposed to give the user change using as minimal number of coins as possible"
   ]
  },
  {
   "cell_type": "code",
   "execution_count": 7,
   "metadata": {},
   "outputs": [
    {
     "name": "stdout",
     "output_type": "stream",
     "text": [
      "Number of coins\n",
      "Toonie: 0\n",
      "Loonie: 1\n",
      "Quarter: 3\n",
      "Dime: 2\n",
      "Nickel: 0\n",
      "Penny: 4\n"
     ]
    }
   ],
   "source": [
    "def make_change():\n",
    "    # prompt the user for input of cents\n",
    "    number_of_cents = int(input(\"Enter number of cents: \"))\n",
    "    toonie, loonie, quarter, dime, nickel, penny = 0,0,0,0,0,0\n",
    "    \n",
    "    # use if else statement\n",
    "    if number_of_cents >= 200:\n",
    "        toonie += number_of_cents // 200\n",
    "        number_of_cents %= 200\n",
    "        \n",
    "    if number_of_cents >= 100:\n",
    "        loonie += number_of_cents // 100\n",
    "        number_of_cents %= 100\n",
    "        \n",
    "    if number_of_cents >= 25:\n",
    "        quarter += number_of_cents // 25\n",
    "        number_of_cents %= 25\n",
    "        \n",
    "    if number_of_cents >= 10:\n",
    "        dime += number_of_cents // 10\n",
    "        number_of_cents %= 10\n",
    "        \n",
    "    if number_of_cents >= 5:\n",
    "        nickel += number_of_cents // 5\n",
    "        number_of_cents %= 5\n",
    "        \n",
    "    if 0 < number_of_cents < 5:\n",
    "        penny = number_of_cents\n",
    "    \n",
    "    result = \"Number of coins\\nToonie: {}\\nLoonie: {}\\nQuarter: {}\\nDime: {}\\nNickel: {}\\nPenny: {}\".format(toonie, loonie, quarter, dime, nickel, penny)\n",
    "    \n",
    "    return result\n",
    "\n",
    "print(make_change())"
   ]
  },
  {
   "cell_type": "markdown",
   "metadata": {},
   "source": [
    "if (condition 1 is true):\n",
    "    run logic\n",
    "elif ... skip everything else\n",
    "\n",
    "integer division is useful in such a case, where a count is the desired output\n",
    "couting the number of each coin and displaying in the console."
   ]
  },
  {
   "cell_type": "code",
   "execution_count": 1,
   "metadata": {},
   "outputs": [
    {
     "name": "stdout",
     "output_type": "stream",
     "text": [
      "101\n",
      "1\n"
     ]
    }
   ],
   "source": [
    "value = 101\n",
    "print(value)\n",
    "value = value % 25 # similar to value %= 25\n",
    "print(value)"
   ]
  },
  {
   "cell_type": "code",
   "execution_count": 2,
   "metadata": {},
   "outputs": [
    {
     "data": {
      "text/plain": [
       "110"
      ]
     },
     "execution_count": 2,
     "metadata": {},
     "output_type": "execute_result"
    }
   ],
   "source": [
    "310 % 200"
   ]
  },
  {
   "cell_type": "markdown",
   "metadata": {},
   "source": [
    "Exercise 14: Height Units\\\n",
    "(Solved—16 Lines)\\\n",
    "Many people think about their height in feet and inches, even in some countries that\n",
    "primarily use the metric system. Write a program that reads a number of feet from\n",
    "the user, followed by a number of inches. Once these values are read, your program\n",
    "should compute and display the equivalent number of centimeters."
   ]
  },
  {
   "cell_type": "markdown",
   "metadata": {},
   "source": [
    "### notes\n",
    "1 foot = 12 inches\n",
    "1 inch  = 2.54 cm\n",
    "\n",
    "1 foot = 12 * 2.54cm = 30.48cm\n",
    "1 inch  = 2.54 cm"
   ]
  },
  {
   "cell_type": "code",
   "execution_count": 11,
   "metadata": {},
   "outputs": [
    {
     "data": {
      "text/plain": [
       "\"5'9 feet equals 175.26cm\""
      ]
     },
     "execution_count": 11,
     "metadata": {},
     "output_type": "execute_result"
    }
   ],
   "source": [
    "def height_units():\n",
    "    # prompt user for input\n",
    "    feet = float(input(\"Enter your height's feet: \"))\n",
    "    inches = float(input(\"Enter your height's inches: \"))\n",
    "    \n",
    "    # declare a result container\n",
    "    result = 0\n",
    "    \n",
    "    # updaete the result\n",
    "    result += (feet * 30.48 + inches * 2.54)\n",
    "    \n",
    "    return \"{:.0f}'{:.0f} feet equals {:.2f}cm\".format(feet, inches, result)\n",
    "\n",
    "height_units()"
   ]
  },
  {
   "cell_type": "markdown",
   "metadata": {},
   "source": [
    "Exercise 16: Area and Volume\\\n",
    "(15 Lines)\\\n",
    "Write a program that begins by reading a radius, r , from the user. The program will\n",
    "continue by computing and displaying the area of a circle with radius r and the\n",
    "volume of a sphere with radius r . Use the pi constant in the math module in your\n",
    "calculations.\n",
    "Hint: The area of a circle is computed using the formula area = πr 2 . The\n",
    "volume of a sphere is computed using the formula volume = 43 πr 3 ."
   ]
  },
  {
   "cell_type": "code",
   "execution_count": 15,
   "metadata": {},
   "outputs": [
    {
     "name": "stdout",
     "output_type": "stream",
     "text": [
      "if radius: 7.0\n",
      "Area of circle: 153.9380\n",
      "Volume of sphere: 1436.7550\n"
     ]
    }
   ],
   "source": [
    "from math import pi\n",
    "\n",
    "def compute_metrics():\n",
    "    radius = abs(float(input(\"Enter the radius\")))\n",
    "    \n",
    "    areaCircle = pi * radius ** 2\n",
    "    sphereVolume = (4 / 3) * pi * radius ** 3\n",
    "    \n",
    "    result = \"if radius: {}\\nArea of circle: {:.4f}\\nVolume of sphere: {:.4f}\".format(radius, areaCircle, sphereVolume)\n",
    "    \n",
    "    return result\n",
    "\n",
    "print(compute_metrics())"
   ]
  },
  {
   "cell_type": "markdown",
   "metadata": {},
   "source": [
    "Exercise 17: Heat Capacity\n",
    "(Solved—25 Lines)\n",
    "The amount of energy required to increase the temperature of one gram of a material\n",
    "by one degree Celsius is the material’s specific heat capacity, C. The total amount\n",
    "of energy required to raise m grams of a material by ∆T degrees Celsius can be\n",
    "computed using the formula:\n",
    "q = mC∆T.\n",
    "Write a program that reads the mass of some water and the temperature change\n",
    "from the user. Your program should display the total amount of energy that must be\n",
    "added or removed to achieve the desired temperature change.\n",
    "Hint: The specific heat capacity of water is 4.186 g◦JC . Because water has a den-\n",
    "sity of 1.0 gram per millilitre, you can use grams and millilitres interchangeably\n",
    "in this exercise.\n",
    "Extend your program so that it also computes the cost of heating the water. Elec-\n",
    "tricity is normally billed using units of kilowatt hours rather than Joules. In this\n",
    "exercise, you should assume that electricity costs 8.9 cents per kilowatt-hour. Use\n",
    "your program to compute the cost of boiling water for a cup of coffee.\n",
    "\n",
    "Hint: You will need to look up the factor for converting between Joules and\n",
    "kilowatt hours to complete the last part of this exercise."
   ]
  },
  {
   "cell_type": "code",
   "execution_count": 16,
   "metadata": {},
   "outputs": [
    {
     "name": "stdout",
     "output_type": "stream",
     "text": [
      "0.046569250000000006\n"
     ]
    }
   ],
   "source": [
    "def heat_capacity():\n",
    "    # prompt the user for input\n",
    "    mass = float(input(\"Enter mass of water: \"))\n",
    "    deltaTemp = float(input(\"Enter change in temperture: \"))\n",
    "    specificHeatCapacity = 4.186\n",
    "    \n",
    "    q = abs(mass * deltaTemp * specificHeatCapacity)\n",
    "    \n",
    "    valueInKwh = q / 3600000\n",
    "    \n",
    "    costOfEnergy = valueInKwh * 8.9\n",
    "    \n",
    "    return costOfEnergy  \n",
    "\n",
    "print(heat_capacity())"
   ]
  },
  {
   "cell_type": "markdown",
   "metadata": {},
   "source": [
    "Exercise 18: Volume of a Cylinder\\\n",
    "(15 Lines)\n",
    "The volume of a cylinder can be computed by multiplying the area of its circular\n",
    "base by its height. Write a program that reads the radius of the cylinder, along with\n",
    "its height, from the user and computes its volume. Display the result rounded to one\n",
    "decimal place."
   ]
  },
  {
   "cell_type": "code",
   "execution_count": 18,
   "metadata": {},
   "outputs": [
    {
     "name": "stdout",
     "output_type": "stream",
     "text": [
      "Radius: 7.0\n",
      "Height: 10.0\n",
      "Volume: 1539.3804\n"
     ]
    }
   ],
   "source": [
    "from math import pi\n",
    "\n",
    "def volume_of_cylinder():\n",
    "    # prompt the user for input\n",
    "    radius = float(input(\"radius: \"))\n",
    "    height = float(input(\"height: \"))\n",
    "    \n",
    "    volume = pi * radius ** 2 * height\n",
    "    \n",
    "    return \"Radius: {}\\nHeight: {}\\nVolume: {:.4f}\".format(radius, height, volume)\n",
    "    \n",
    "print(volume_of_cylinder())"
   ]
  },
  {
   "cell_type": "code",
   "execution_count": null,
   "metadata": {},
   "outputs": [],
   "source": []
  },
  {
   "cell_type": "markdown",
   "metadata": {},
   "source": [
    "Exercise 19: Free Fall\n",
    "(Solved—16 Lines)\n",
    "Create a program that determines how quickly an object is traveling when it hits the\n",
    "ground. The user will enter the height from which the object is dropped in meters (m).\n",
    "Because the object is dropped its initial speed is 0 m/s. Assume\n",
    "that the acceleration\n",
    "due to gravity is 9.8 m/s2 . You can use the formula vf = vi2 + 2ad to compute the\n",
    "final speed, vf , when the initial speed, vi , acceleration, a, and distance, d, are known."
   ]
  },
  {
   "cell_type": "code",
   "execution_count": 21,
   "metadata": {},
   "outputs": [
    {
     "name": "stdout",
     "output_type": "stream",
     "text": [
      "125.2198\n"
     ]
    }
   ],
   "source": [
    "from math import sqrt\n",
    "\n",
    "def free_fall():\n",
    "    height = float(input(\"Enter height: \"))\n",
    "    \n",
    "    final_velocity = sqrt(2 * 9.8 * height)\n",
    "    \n",
    "    return \"{:.4f}\".format(final_velocity)\n",
    "\n",
    "print(free_fall())"
   ]
  },
  {
   "cell_type": "code",
   "execution_count": null,
   "metadata": {},
   "outputs": [],
   "source": [
    "from math import sqrt\n",
    "\n",
    "def free_fall(height):    \n",
    "    final_velocity = sqrt(2 * 9.8 * height)\n",
    "    return \"{:.4f}\".format(final_velocity)\n",
    "\n",
    "def main():\n",
    "    height = float(input(\"Enter height: \"))\n",
    "    print(free_fall(height))\n",
    "\n",
    "main()"
   ]
  },
  {
   "cell_type": "markdown",
   "metadata": {},
   "source": [
    "Exercise 20: Ideal Gas Law\\\n",
    "(19 Lines)\\\n",
    "The ideal gas law is a mathematical approximation of the behavior of gasses as\n",
    "pressure, volume and temperature change. It is usually stated as:\n",
    "PV = nRT\n",
    "where P is the pressure in Pascals, V is the volume in liters, n is the amount of\n",
    "substance in moles, R is the ideal gas constant, equal to 8.314 molJ K , and T is the\n",
    "temperature in degrees Kelvin.\n",
    "Write a program that computes the amount of gas in moles when the user supplies\n",
    "the pressure, volume and temperature. Test your program by determining the number\n",
    "of moles of gas in a SCUBA tank. A typical SCUBA tank holds 12 liters of gas at\n",
    "a pressure of 20,000,000 Pascals (approximately 3,000 PSI). Room temperature is\n",
    "approximately 20 degrees Celsius or 68 degrees Fahrenheit."
   ]
  },
  {
   "cell_type": "markdown",
   "metadata": {},
   "source": [
    "n = PV / RT"
   ]
  },
  {
   "cell_type": "code",
   "execution_count": 23,
   "metadata": {},
   "outputs": [
    {
     "name": "stdout",
     "output_type": "stream",
     "text": [
      "98471.6745 moles\n"
     ]
    }
   ],
   "source": [
    "def ideal_gas_laws(pressure, volume, temp):\n",
    "    result = (pressure * volume) / (temp * 8.314)\n",
    "    return \"{:.4f} moles\".format(result)\n",
    "\n",
    "# test the class \n",
    "tempInKelvin = 20 + 273.15\n",
    "print(ideal_gas_laws(20000000, 12, tempInKelvin))\n",
    "\n",
    "def main():\n",
    "    # ask the user for input\n",
    "    pass"
   ]
  },
  {
   "cell_type": "code",
   "execution_count": null,
   "metadata": {},
   "outputs": [],
   "source": []
  }
 ],
 "metadata": {
  "kernelspec": {
   "display_name": "Python 3",
   "language": "python",
   "name": "python3"
  },
  "language_info": {
   "codemirror_mode": {
    "name": "ipython",
    "version": 3
   },
   "file_extension": ".py",
   "mimetype": "text/x-python",
   "name": "python",
   "nbconvert_exporter": "python",
   "pygments_lexer": "ipython3",
   "version": "3.12.2"
  }
 },
 "nbformat": 4,
 "nbformat_minor": 2
}
