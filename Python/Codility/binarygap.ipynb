{
 "cells": [
  {
   "cell_type": "markdown",
   "metadata": {},
   "source": [
    "### Binary Gap\n",
    "Define a function that returns the largest binary gap given a decimal integer N\n",
    "For instance: given the number 9 which converts to the binary 1001 => this gives a binary gap of 2\n",
    "A binary gap is the count of consecutive zeros "
   ]
  },
  {
   "cell_type": "code",
   "execution_count": 4,
   "metadata": {},
   "outputs": [],
   "source": [
    "# define a function to convert a decimal integer to a binary representation \n",
    "def decimalToBinary(num):\n",
    "    return bin(num).replace(\"0b\", \"\")\n",
    "\n",
    "def Solution(N):\n",
    "    pass       "
   ]
  }
 ],
 "metadata": {
  "kernelspec": {
   "display_name": "Python 3",
   "language": "python",
   "name": "python3"
  },
  "language_info": {
   "codemirror_mode": {
    "name": "ipython",
    "version": 3
   },
   "file_extension": ".py",
   "mimetype": "text/x-python",
   "name": "python",
   "nbconvert_exporter": "python",
   "pygments_lexer": "ipython3",
   "version": "3.12.2"
  }
 },
 "nbformat": 4,
 "nbformat_minor": 2
}
