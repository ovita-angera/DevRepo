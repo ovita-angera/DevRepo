{
 "cells": [
  {
   "cell_type": "markdown",
   "metadata": {},
   "source": [
    "### Binary Gap\n",
    "Define a function that returns the largest binary gap given a decimal integer N\n",
    "For instance: given the number 9 which converts to the binary 1001 => this gives a binary gap of 2\n",
    "A binary gap is the count of consecutive zeros "
   ]
  },
  {
   "cell_type": "code",
   "execution_count": 36,
   "metadata": {},
   "outputs": [],
   "source": [
    "def Solution(N):\n",
    "           \n",
    "          # define a function to convert a decimal integer to a binary representation \n",
    "    def decimalToBinary(num):\n",
    "        return bin(num).replace(\"0b\", \"\")\n",
    "    \n",
    "    if isinstance(N, int):\n",
    "        number_in_binary = [int(x) for x in decimalToBinary(N)]\n",
    "        binary_gaps = []\n",
    "        count = 0\n",
    "        \n",
    "        # if the first number is a zero, substring eliminating the zero\n",
    "        while number_in_binary[0] == 0:\n",
    "            if number_in_binary[0] == 0:\n",
    "                number_in_binary = number_in_binary[1::]\n",
    "        \n",
    "        # write a function to do the zero counts for binary gaps\n",
    "        for i in range(len(number_in_binary)):\n",
    "            if number_in_binary[i] == 1:\n",
    "                if count != 0:\n",
    "                    binary_gaps.append(count)\n",
    "                    \n",
    "                # reset the count variable for the next binary gap    \n",
    "                count = 0\n",
    "            \n",
    "            if number_in_binary[i] == 0:\n",
    "                count += 1\n",
    "                \n",
    "        return sorted(binary_gaps, reverse=True)[0] if len(binary_gaps) > 0 else 0 "
   ]
  },
  {
   "cell_type": "code",
   "execution_count": 38,
   "metadata": {},
   "outputs": [
    {
     "data": {
      "text/plain": [
       "0"
      ]
     },
     "execution_count": 38,
     "metadata": {},
     "output_type": "execute_result"
    }
   ],
   "source": [
    "Solution(32)"
   ]
  },
  {
   "cell_type": "code",
   "execution_count": 33,
   "metadata": {},
   "outputs": [
    {
     "data": {
      "text/plain": [
       "'1000100101'"
      ]
     },
     "execution_count": 33,
     "metadata": {},
     "output_type": "execute_result"
    }
   ],
   "source": [
    "decimalToBinary(549)"
   ]
  },
  {
   "cell_type": "code",
   "execution_count": 39,
   "metadata": {},
   "outputs": [
    {
     "data": {
      "text/plain": [
       "3"
      ]
     },
     "execution_count": 39,
     "metadata": {},
     "output_type": "execute_result"
    }
   ],
   "source": [
    "Solution(549)"
   ]
  },
  {
   "cell_type": "code",
   "execution_count": 47,
   "metadata": {},
   "outputs": [],
   "source": [
    "array = [1,4,2,1,3,2,4,2]"
   ]
  },
  {
   "cell_type": "code",
   "execution_count": 49,
   "metadata": {},
   "outputs": [
    {
     "data": {
      "text/plain": [
       "4"
      ]
     },
     "execution_count": 49,
     "metadata": {},
     "output_type": "execute_result"
    }
   ],
   "source": [
    "sorted(array, reverse=True)[0]"
   ]
  },
  {
   "cell_type": "code",
   "execution_count": 46,
   "metadata": {},
   "outputs": [
    {
     "data": {
      "text/plain": [
       "4"
      ]
     },
     "execution_count": 46,
     "metadata": {},
     "output_type": "execute_result"
    }
   ],
   "source": [
    "array.sort(reverse=True)\n",
    "array[0]\n"
   ]
  },
  {
   "cell_type": "code",
   "execution_count": null,
   "metadata": {},
   "outputs": [],
   "source": []
  }
 ],
 "metadata": {
  "kernelspec": {
   "display_name": "Python 3",
   "language": "python",
   "name": "python3"
  },
  "language_info": {
   "codemirror_mode": {
    "name": "ipython",
    "version": 3
   },
   "file_extension": ".py",
   "mimetype": "text/x-python",
   "name": "python",
   "nbconvert_exporter": "python",
   "pygments_lexer": "ipython3",
   "version": "3.12.2"
  }
 },
 "nbformat": 4,
 "nbformat_minor": 2
}
