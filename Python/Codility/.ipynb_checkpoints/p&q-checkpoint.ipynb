{
 "cells": [
  {
   "cell_type": "markdown",
   "metadata": {},
   "source": [
    "We are given two strings P and Q, each consisting of N lowercase English letters. For each position in the strings, we have to choose one letter from either P or Q, in order to construct a new string S, such that the number of distinct letters in S is minimal. Our task is to find the number of distinct letters in the resulting string S.\n",
    "\n",
    "For example, if P = \"ca\" and Q = \"ab\", S can be equal to: \"ca\", \"cb\", \"aa\" or \"ab\". String \"aa\" has only one distinct letter ('a'), so the answer is 1 (which is minimal among those strings).\n",
    "\n",
    "Write a function:\n",
    "\n",
    "def solution(P, Q)\n",
    "\n",
    "that, given two strings P and Q, both of length N, returns the minimum number of distinct letters of a string S, that can be constructed from P and Q as described above.\n",
    "\n",
    "Examples:\n",
    "\n",
    "1. Given P = \"abc\", Q = \"bcd\", your function should return 2. All possible strings S that can be constructed are: \"abc\", \"abd\", \"acc\", \"acd\", \"bbc\", \"bbd\", \"bcc\", \"bcd\". The minimum number of distinct letters is 2, which be obtained by constructing the following strings: \"acc\", \"bbc\", \"bbd\", \"bcc\".\n",
    "\n",
    "2. Given P = \"axxz\", Q = \"yzwy\", your function should return 2. String S must consist of at least two distinct letters in this case. We can construct S = \"yxxy\", where the number of distinct letters is equal to 2, and this is the only optimal solution.\n",
    "\n",
    "3. Given P = \"bacad\", Q = \"abada\", your function should return 1. We can choose the letter 'a' in each position, so S can be equal to \"aaaaa\".\n",
    "\n",
    "4. Given P = \"amz\", Q = \"amz\", your function should return 3. The input strings are identical, so the only possible S that can be constructed is \"amz\", and its number of distinct letters is 3.\n",
    "\n",
    "Write an efficient algorithm for the following assumptions:\n",
    "\n",
    "N is an integer within the range [1..200,000];\n",
    "strings P and Q are both of length N;\n",
    "strings P and Q are made only of lowercase letters (a−z);\n",
    "strings P and Q contain a total of at most 20 distinct letters."
   ]
  },
  {
   "cell_type": "code",
   "execution_count": 41,
   "metadata": {},
   "outputs": [],
   "source": [
    "P = 'bacad'\n",
    "Q = 'abada'"
   ]
  },
  {
   "cell_type": "code",
   "execution_count": 42,
   "metadata": {},
   "outputs": [
    {
     "name": "stdout",
     "output_type": "stream",
     "text": [
      "3\n",
      "3\n",
      "2\n",
      "2\n",
      "2\n",
      "2\n",
      "1\n",
      "1\n",
      "1\n",
      "1\n"
     ]
    }
   ],
   "source": [
    "for i in range(len(P)):\n",
    "    for j in range(2):\n",
    "        if i == 0:\n",
    "            p_conv = Q[i] + P[i+1::]\n",
    "            q_conv = P[i] + Q[i+1::]\n",
    "        elif 0 < i < len(P) - 1:\n",
    "            p_conv = P[0:i] + Q[i] + P[i+1::]\n",
    "            q_conv = Q[0:i] + P[i] + Q[i+1::]\n",
    "        else:\n",
    "            p_conv = P[0:i] + Q[i]\n",
    "            q_conv = Q[0:i] + P[i]\n",
    "        \n",
    "        if len(set(p_conv)) <= len(set(P)):\n",
    "            P = p_conv\n",
    "        \n",
    "        if len(set(q_conv)) <= len(set(Q)):\n",
    "            Q = q_conv\n",
    "        \n",
    "        if len(set(P)) <= len(set(Q)):\n",
    "            print(len(set(P)))\n",
    "        else:\n",
    "            print(len(set(Q)))\n"
   ]
  },
  {
   "cell_type": "code",
   "execution_count": 66,
   "metadata": {},
   "outputs": [],
   "source": [
    "numbers = [1,2,3,4]"
   ]
  },
  {
   "cell_type": "code",
   "execution_count": 63,
   "metadata": {},
   "outputs": [],
   "source": [
    "def rotate(numbers):\n",
    "    length = len(numbers)\n",
    "    last = numbers[-1]\n",
    "    numbers = numbers[:length-1]\n",
    "    numbers.insert(0, last)\n",
    "    return numbers"
   ]
  },
  {
   "cell_type": "code",
   "execution_count": 67,
   "metadata": {},
   "outputs": [
    {
     "data": {
      "text/plain": [
       "[4, 1, 2, 3]"
      ]
     },
     "execution_count": 67,
     "metadata": {},
     "output_type": "execute_result"
    }
   ],
   "source": [
    "rotate(numbers)"
   ]
  },
  {
   "cell_type": "code",
   "execution_count": 72,
   "metadata": {},
   "outputs": [],
   "source": [
    "def solution(A, B):\n",
    "    # define check similarity\n",
    "    def check_similarity(A, B):\n",
    "        for i in range(len(B)):\n",
    "            if A[i] == B[i]:\n",
    "                return True\n",
    "        return False\n",
    "    \n",
    "    # define a function to rotate the food array\n",
    "    def rotate(B):\n",
    "        l = len(B)\n",
    "        last = B[-1]\n",
    "        B = B[:l-1]\n",
    "        B.insert(0, last)\n",
    "        return B\n",
    "\n",
    "    # define a while loop to check the minimal number of rotations\n",
    "    count = 0\n",
    "    while check_similarity(A, B):\n",
    "        if count == len(A):\n",
    "            count = -1\n",
    "            break\n",
    "            \n",
    "        B = rotate(B)\n",
    "        count += 1\n",
    "\n",
    "    return count"
   ]
  },
  {
   "cell_type": "code",
   "execution_count": 73,
   "metadata": {},
   "outputs": [
    {
     "data": {
      "text/plain": [
       "2"
      ]
     },
     "execution_count": 73,
     "metadata": {},
     "output_type": "execute_result"
    }
   ],
   "source": [
    "solution([1, 3, 5, 2, 8, 7], [7, 1, 9, 8, 5, 7])"
   ]
  }
 ],
 "metadata": {
  "kernelspec": {
   "display_name": "Python 3",
   "language": "python",
   "name": "python3"
  },
  "language_info": {
   "codemirror_mode": {
    "name": "ipython",
    "version": 3
   },
   "file_extension": ".py",
   "mimetype": "text/x-python",
   "name": "python",
   "nbconvert_exporter": "python",
   "pygments_lexer": "ipython3",
   "version": "3.12.2"
  }
 },
 "nbformat": 4,
 "nbformat_minor": 2
}
